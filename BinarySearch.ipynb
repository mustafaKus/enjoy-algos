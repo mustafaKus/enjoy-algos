{
  "nbformat": 4,
  "nbformat_minor": 0,
  "metadata": {
    "colab": {
      "provenance": [],
      "collapsed_sections": [],
      "authorship_tag": "ABX9TyO4EVlwM+zEircJkGI+voBo",
      "include_colab_link": true
    },
    "kernelspec": {
      "name": "python3",
      "display_name": "Python 3"
    },
    "language_info": {
      "name": "python"
    }
  },
  "cells": [
    {
      "cell_type": "markdown",
      "metadata": {
        "id": "view-in-github",
        "colab_type": "text"
      },
      "source": [
        "<a href=\"https://colab.research.google.com/github/mustafaKus/enjoy-algos/blob/main/BinarySearch.ipynb\" target=\"_parent\"><img src=\"https://colab.research.google.com/assets/colab-badge.svg\" alt=\"Open In Colab\"/></a>"
      ]
    },
    {
      "cell_type": "code",
      "execution_count": 14,
      "metadata": {
        "id": "2Tv8_YEs-xB8"
      },
      "outputs": [],
      "source": [
        "def binary_search(arr, left, right, key):\n",
        "  \"\"\"Returns the index of the 'key'\"\"\"\n",
        "  if left > right:\n",
        "    return -1\n",
        "  middle = int((left + right)/2)\n",
        "  if arr[middle] == key:\n",
        "    return middle\n",
        "  if arr[middle] == key:\n",
        "    return middle\n",
        "  if arr[middle] > key:\n",
        "    return binary_search(arr, left, middle - 1, key)\n",
        "  return binary_search(arr, middle + 1, right, key)"
      ]
    },
    {
      "cell_type": "code",
      "source": [
        "A = [0, 1, 2, 10, 12, 14, 22]\n",
        "\n",
        "assert binary_search(A, 0, len(A)-1, 22) == 6\n",
        "assert binary_search(A, 0, len(A)-1, 0) == 0\n",
        "assert binary_search(A, 0, len(A)-1, 10) == 3\n",
        "assert binary_search(A, 0, len(A)-1, 4) == -1\n",
        "assert binary_search(A, 0, len(A)-1, 30) == -1"
      ],
      "metadata": {
        "id": "CKwLV4sTXt9_"
      },
      "execution_count": 16,
      "outputs": []
    },
    {
      "cell_type": "code",
      "source": [
        "def incremental_binary_search(arr, left, right, key):\n",
        "  \"\"\"Returns the index of the 'key'\"\"\"\n",
        "  while left <= right:\n",
        "    middle = int((left + right)/2)\n",
        "    if arr[middle] == key:\n",
        "      return middle\n",
        "    if arr[middle] < key:\n",
        "      left = middle +1\n",
        "      continue\n",
        "    right = middle - 1\n",
        "  return -1\n"
      ],
      "metadata": {
        "id": "Po94GQlyaR0Z"
      },
      "execution_count": 17,
      "outputs": []
    },
    {
      "cell_type": "code",
      "source": [
        "assert incremental_binary_search(A, 0, len(A)-1, 22) == 6\n",
        "assert incremental_binary_search(A, 0, len(A)-1, 0) == 0\n",
        "assert incremental_binary_search(A, 0, len(A)-1, 10) == 3\n",
        "assert incremental_binary_search(A, 0, len(A)-1, 4) == -1\n",
        "assert incremental_binary_search(A, 0, len(A)-1, 30) == -1"
      ],
      "metadata": {
        "id": "jK1f2Ce1r6N2"
      },
      "execution_count": 18,
      "outputs": []
    },
    {
      "cell_type": "markdown",
      "source": [
        "# Find the maximum in an array which is first increasing and then decreasing"
      ],
      "metadata": {
        "id": "vs6CRvTQsxKQ"
      }
    },
    {
      "cell_type": "code",
      "source": [
        "def find_max_in_increasing_then_decreasing_arr(arr, lower=None, upper=None):\n",
        "  \"\"\"Returns the max in the array\"\"\"\n",
        "  lower = lower or 0\n",
        "  upper = upper or len(arr) - 1\n",
        "  if lower == upper:\n",
        "    return arr[lower]\n",
        "  if upper==lower+1 and arr[lower] >= arr[upper]:\n",
        "    return arr[lower]\n",
        "  if upper==lower+1 and arr[lower] < arr[upper]:\n",
        "    return arr[upper]\n",
        "  middle = int((lower + upper)/2)\n",
        "  if arr[middle] > arr[middle+1] and arr[middle] > arr[middle-1]:\n",
        "    return arr[middle]\n",
        "  if arr[middle] > arr[middle+1] and arr[middle] < arr[middle-1]:\n",
        "    return find_max_in_increasing_then_decreasing_arr(arr, lower, middle-1)\n",
        "  return find_max_in_increasing_then_decreasing_arr(arr, middle+1, upper)"
      ],
      "metadata": {
        "id": "gjEL99TTs9MO"
      },
      "execution_count": 23,
      "outputs": []
    },
    {
      "cell_type": "code",
      "source": [
        "arr = [1, 2, 3, 4, 5, 6, 15, 14, 13]\n",
        "assert find_max_in_increasing_then_decreasing_arr(arr) == 15"
      ],
      "metadata": {
        "id": "vSWBYLV7yJa0"
      },
      "execution_count": 25,
      "outputs": []
    },
    {
      "cell_type": "markdown",
      "source": [
        "# Find first and last positions of an element in a sorted array"
      ],
      "metadata": {
        "id": "2Pq5-1oizqBD"
      }
    },
    {
      "cell_type": "code",
      "source": [],
      "metadata": {
        "id": "wh2kevMJzvRc"
      },
      "execution_count": null,
      "outputs": []
    }
  ]
}
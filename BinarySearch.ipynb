{
  "nbformat": 4,
  "nbformat_minor": 0,
  "metadata": {
    "colab": {
      "provenance": [],
      "collapsed_sections": [],
      "authorship_tag": "ABX9TyN32quDHV1ViGKp9K5vxN+f",
      "include_colab_link": true
    },
    "kernelspec": {
      "name": "python3",
      "display_name": "Python 3"
    },
    "language_info": {
      "name": "python"
    }
  },
  "cells": [
    {
      "cell_type": "markdown",
      "metadata": {
        "id": "view-in-github",
        "colab_type": "text"
      },
      "source": [
        "<a href=\"https://colab.research.google.com/github/mustafaKus/enjoy-algos/blob/main/BinarySearch.ipynb\" target=\"_parent\"><img src=\"https://colab.research.google.com/assets/colab-badge.svg\" alt=\"Open In Colab\"/></a>"
      ]
    },
    {
      "cell_type": "code",
      "execution_count": 35,
      "metadata": {
        "id": "2Tv8_YEs-xB8"
      },
      "outputs": [],
      "source": [
        "def binary_search(arr, left, right, key):\n",
        "  \"\"\"Returns the index of the 'key'\"\"\"\n",
        "  if left > right:\n",
        "    return -1\n",
        "  middle = int((left + right)/2)\n",
        "  if arr[middle] == key:\n",
        "    return middle\n",
        "  if arr[middle] == key:\n",
        "    return middle\n",
        "  if arr[middle] > key:\n",
        "    return binary_search(arr, left, middle - 1, key)\n",
        "  return binary_search(arr, middle + 1, right, key)"
      ]
    },
    {
      "cell_type": "code",
      "source": [
        "A = [0, 1, 2, 10, 12, 14, 22]\n",
        "\n",
        "assert binary_search(A, 0, len(A)-1, 22) == 6\n",
        "assert binary_search(A, 0, len(A)-1, 0) == 0\n",
        "assert binary_search(A, 0, len(A)-1, 10) == 3\n",
        "assert binary_search(A, 0, len(A)-1, 4) == -1\n",
        "assert binary_search(A, 0, len(A)-1, 30) == -1"
      ],
      "metadata": {
        "id": "CKwLV4sTXt9_"
      },
      "execution_count": 16,
      "outputs": []
    },
    {
      "cell_type": "code",
      "source": [
        "def incremental_binary_search(arr, left, right, key):\n",
        "  \"\"\"Returns the index of the 'key'\"\"\"\n",
        "  while left <= right:\n",
        "    middle = int((left + right)/2)\n",
        "    if arr[middle] == key:\n",
        "      return middle\n",
        "    if arr[middle] < key:\n",
        "      left = middle +1\n",
        "      continue\n",
        "    right = middle - 1\n",
        "  return -1\n"
      ],
      "metadata": {
        "id": "Po94GQlyaR0Z"
      },
      "execution_count": 17,
      "outputs": []
    },
    {
      "cell_type": "code",
      "source": [
        "assert incremental_binary_search(A, 0, len(A)-1, 22) == 6\n",
        "assert incremental_binary_search(A, 0, len(A)-1, 0) == 0\n",
        "assert incremental_binary_search(A, 0, len(A)-1, 10) == 3\n",
        "assert incremental_binary_search(A, 0, len(A)-1, 4) == -1\n",
        "assert incremental_binary_search(A, 0, len(A)-1, 30) == -1"
      ],
      "metadata": {
        "id": "jK1f2Ce1r6N2"
      },
      "execution_count": 18,
      "outputs": []
    },
    {
      "cell_type": "markdown",
      "source": [
        "# Find the maximum in an array which is first increasing and then decreasing"
      ],
      "metadata": {
        "id": "vs6CRvTQsxKQ"
      }
    },
    {
      "cell_type": "code",
      "source": [
        "def find_max_in_increasing_then_decreasing_arr(arr, lower=None, upper=None):\n",
        "  \"\"\"Returns the max in the array\"\"\"\n",
        "  lower = lower or 0\n",
        "  upper = upper or len(arr) - 1\n",
        "  if lower == upper:\n",
        "    return arr[lower]\n",
        "  if upper==lower+1 and arr[lower] >= arr[upper]:\n",
        "    return arr[lower]\n",
        "  if upper==lower+1 and arr[lower] < arr[upper]:\n",
        "    return arr[upper]\n",
        "  middle = int((lower + upper)/2)\n",
        "  if arr[middle] > arr[middle+1] and arr[middle] > arr[middle-1]:\n",
        "    return arr[middle]\n",
        "  if arr[middle] > arr[middle+1] and arr[middle] < arr[middle-1]:\n",
        "    return find_max_in_increasing_then_decreasing_arr(arr, lower, middle-1)\n",
        "  return find_max_in_increasing_then_decreasing_arr(arr, middle+1, upper)"
      ],
      "metadata": {
        "id": "gjEL99TTs9MO"
      },
      "execution_count": 23,
      "outputs": []
    },
    {
      "cell_type": "code",
      "source": [
        "arr = [1, 2, 3, 4, 5, 6, 15, 14, 13]\n",
        "assert find_max_in_increasing_then_decreasing_arr(arr) == 15"
      ],
      "metadata": {
        "id": "vSWBYLV7yJa0"
      },
      "execution_count": 25,
      "outputs": []
    },
    {
      "cell_type": "markdown",
      "source": [
        "# Find first and last positions of an element in a sorted array"
      ],
      "metadata": {
        "id": "2Pq5-1oizqBD"
      }
    },
    {
      "cell_type": "code",
      "source": [
        "def find_first_occurrance(arr, target, lower=None, upper=None):\n",
        "  \"\"\"Finds the first occurrance of the 'target' with binary search\"\"\"\n",
        "  lower = lower if lower is not None else 0\n",
        "  upper = upper if upper is not None else len(arr) - 1\n",
        "  if lower > upper:\n",
        "    return -1\n",
        "  middle = int((lower+upper)/2)\n",
        "  if arr[middle] == target and (middle == 0 or arr[middle-1] < target):\n",
        "    return middle\n",
        "  if target > arr[middle]:\n",
        "    return find_first_occurrance(arr, target, middle+1, upper)\n",
        "  return find_first_occurrance(arr, target, lower, middle-1)"
      ],
      "metadata": {
        "id": "wh2kevMJzvRc"
      },
      "execution_count": 18,
      "outputs": []
    },
    {
      "cell_type": "code",
      "source": [
        "arr = [1, 1, 1, 1, 2, 3, 4, 5, 5, 10]\n",
        "\n",
        "assert find_first_occurrance(arr, 1) == 0\n",
        "assert find_first_occurrance(arr, 5) == 7\n",
        "assert find_first_occurrance(arr, 10) == 9"
      ],
      "metadata": {
        "id": "Jo8J339sJpI-"
      },
      "execution_count": null,
      "outputs": []
    },
    {
      "cell_type": "code",
      "source": [
        "def find_last_occurrance(arr, target, lower=None, upper=None):\n",
        "  \"\"\"Finds the last occurrance of the 'target'\"\"\"\n",
        "  lower = lower if lower is not None else 0\n",
        "  upper = upper if upper is not None else len(arr) - 1\n",
        "  if lower > upper:\n",
        "    return -1\n",
        "  middle = int((lower+upper)/2)\n",
        "  if arr[middle] == target and (middle == len(arr)-1 or arr[middle+1] > target):\n",
        "    return middle\n",
        "  if target < arr[middle]:\n",
        "    return find_last_occurrance(arr, target, lower, middle-1)\n",
        "  return find_last_occurrance(arr, target, middle+1, upper)\n"
      ],
      "metadata": {
        "id": "lcHJXiwUMcia"
      },
      "execution_count": 22,
      "outputs": []
    },
    {
      "cell_type": "code",
      "source": [
        "assert find_last_occurrance(arr, 1) == 3\n",
        "assert find_last_occurrance(arr, 5) == 8\n",
        "assert find_last_occurrance(arr, 10) == 9"
      ],
      "metadata": {
        "id": "uLXOsteTPWxe"
      },
      "execution_count": 25,
      "outputs": []
    },
    {
      "cell_type": "markdown",
      "source": [
        "# Minimum in a Rotated and Sorted Array"
      ],
      "metadata": {
        "id": "To1YXD1vQF6E"
      }
    },
    {
      "cell_type": "code",
      "source": [
        "def find_minimum_in_rotated_array(arr, lower=None, upper=None):\n",
        "  \"\"\"Finds the minimum value at the rotated arr\"\"\"\n",
        "  lower = lower if lower is not None else 0\n",
        "  upper = upper if upper is not None else len(arr) - 1\n",
        "  if arr[lower] < arr[upper]:\n",
        "    return arr[lower]\n",
        "  middle = int((lower+upper)/2)\n",
        "  if arr[middle] < arr[upper]:\n",
        "    return find_minimum_in_rotated_array(arr, lower, middle-1)\n",
        "  return find_minimum_in_rotated_array(arr, middle+1, upper) "
      ],
      "metadata": {
        "id": "mtq1JdBpQKPx"
      },
      "execution_count": 26,
      "outputs": []
    },
    {
      "cell_type": "code",
      "source": [
        "assert find_minimum_in_rotated_array([4, 5, 6, 7, 1, 2, 3]) == 1\n",
        "assert find_minimum_in_rotated_array([55, 56, 58, 0, 1, 2]) == 0"
      ],
      "metadata": {
        "id": "Grw8XKe6U9nC"
      },
      "execution_count": 31,
      "outputs": []
    },
    {
      "cell_type": "markdown",
      "source": [
        "# Search in a row-wise sorted 2D matrix"
      ],
      "metadata": {
        "id": "QvD98ehpWZfQ"
      }
    },
    {
      "cell_type": "code",
      "source": [
        "def search_matrix(matrix, target, lower=None, upper=None):\n",
        "  \"\"\"Returns true if the target is present in the matrix which is sorted in row-wise and beginning of \n",
        "  each row is greater than last element of the before row\"\"\"\n",
        "  lower = lower if lower is not None else 0\n",
        "  upper = upper if upper is not None else len(matrix) - 1\n",
        "  if lower > upper:\n",
        "    return False\n",
        "  middle = int((lower+upper)/2)\n",
        "  middle_row = matrix[middle]\n",
        "  if middle_row[0] <= target and middle_row[len(middle_row)-1] >= target:\n",
        "    return binary_search(middle_row, 0, len(middle_row)-1, target) != -1\n",
        "  if middle_row[0] > target:\n",
        "    return search_matrix(matrix, target, lower, middle-1)\n",
        "  return search_matrix(matrix, target, middle + 1, upper)"
      ],
      "metadata": {
        "id": "KcW0U5QhWcl1"
      },
      "execution_count": 47,
      "outputs": []
    },
    {
      "cell_type": "code",
      "source": [
        "matrix = [[1, 2, 3], [4, 5, 6], [7, 8, 10]]\n",
        "\n",
        "assert search_matrix(matrix, 4)\n",
        "assert search_matrix(matrix, 10)\n",
        "assert not search_matrix(matrix, 0)\n",
        "assert not search_matrix(matrix, 15)"
      ],
      "metadata": {
        "id": "_uNlNMZybozU"
      },
      "execution_count": 48,
      "outputs": []
    },
    {
      "cell_type": "markdown",
      "source": [
        "# Median of two sorted arrays of the equal size"
      ],
      "metadata": {
        "id": "qI4_VdUzpufc"
      }
    },
    {
      "cell_type": "code",
      "source": [
        "def median(arr, n):\n",
        "  \"\"\"Returns the median of the arr\"\"\"\n",
        "  if n%2==0:\n",
        "    return (arr[int(n/2-1)]+arr[int(n/2)])/2\n",
        "  return arr[int(n/2)]\n",
        "\n",
        "def median_of(A, B, n):\n",
        "  \"\"\"Returns the median of the merged array of A and B\"\"\"\n",
        "  if n==0:\n",
        "    return 0\n",
        "  if n==1:\n",
        "    return (A[0] + B[0])/2\n",
        "  median_A, median_B = median(A, n), median(B, n)\n",
        "  if median_A == median_B:\n",
        "    return median_A\n",
        "  if median_A < median_B:\n",
        "    return median_of(A[int(n/2):], B[:int(n/2+1)], n-int(n/2))\n",
        "  return median_of(A[:int(n/2+1)], B[int(n/2):], n-int(n/2))"
      ],
      "metadata": {
        "id": "QR9gfHxbpw9D"
      },
      "execution_count": 82,
      "outputs": []
    },
    {
      "cell_type": "markdown",
      "source": [
        "# Find GCD of Two Numbers: Euclidean Algorithm"
      ],
      "metadata": {
        "id": "PTQVcGGtm9Ye"
      }
    },
    {
      "cell_type": "code",
      "source": [
        "def gcd(m, n):\n",
        "  \"\"\"Returns the greatest common divisor of the m and n\"\"\"\n",
        "  if n == 0:\n",
        "    return m\n",
        "  return gcd(n, m%n)"
      ],
      "metadata": {
        "id": "N8zLj2u_nAxx"
      },
      "execution_count": 99,
      "outputs": []
    },
    {
      "cell_type": "code",
      "source": [
        "assert gcd(48, 480) == 48\n",
        "assert gcd(0, 10) == 10\n",
        "assert gcd(20, 0) == 20"
      ],
      "metadata": {
        "id": "Tx3nD6MnqxsP"
      },
      "execution_count": 103,
      "outputs": []
    },
    {
      "cell_type": "markdown",
      "source": [
        "# Find Square Root of a Number"
      ],
      "metadata": {
        "id": "qXGnqKd6saWa"
      }
    },
    {
      "cell_type": "code",
      "source": [
        "def sqrt(n, epsilon=0.0000001, lower=None, higher=None):\n",
        "  \"\"\"Returns the square root of the n\"\"\"\n",
        "  lower = lower or 1\n",
        "  higher = higher or n\n",
        "  middle = (higher+lower)/2\n",
        "  if middle*middle < n + epsilon and middle*middle > n - epsilon:\n",
        "    return middle\n",
        "  if middle*middle > n + epsilon:\n",
        "    return sqrt(n, epsilon, lower, middle-1)\n",
        "  return sqrt(n, epsilon, middle+1, higher)"
      ],
      "metadata": {
        "id": "q7RulEZPsc6q"
      },
      "execution_count": 111,
      "outputs": []
    },
    {
      "cell_type": "code",
      "source": [
        "sqrt(10)"
      ],
      "metadata": {
        "colab": {
          "base_uri": "https://localhost:8080/"
        },
        "id": "JbgKb1xkvXWw",
        "outputId": "d1c56147-4cee-4bd7-e324-a01c0c1227dc"
      },
      "execution_count": 113,
      "outputs": [
        {
          "output_type": "execute_result",
          "data": {
            "text/plain": [
              "3.1622776687145233"
            ]
          },
          "metadata": {},
          "execution_count": 113
        }
      ]
    }
  ]
}
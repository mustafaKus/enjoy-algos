{
  "nbformat": 4,
  "nbformat_minor": 0,
  "metadata": {
    "colab": {
      "provenance": [],
      "authorship_tag": "ABX9TyOvQm5sRsjV2I80YqKNWHio",
      "include_colab_link": true
    },
    "kernelspec": {
      "name": "python3",
      "display_name": "Python 3"
    },
    "language_info": {
      "name": "python"
    }
  },
  "cells": [
    {
      "cell_type": "markdown",
      "metadata": {
        "id": "view-in-github",
        "colab_type": "text"
      },
      "source": [
        "<a href=\"https://colab.research.google.com/github/mustafaKus/enjoy-algos/blob/main/Stack.ipynb\" target=\"_parent\"><img src=\"https://colab.research.google.com/assets/colab-badge.svg\" alt=\"Open In Colab\"/></a>"
      ]
    },
    {
      "cell_type": "code",
      "source": [
        "class Stack:\n",
        "  \"\"\"Implements a stack\"\"\"\n",
        "\n",
        "  def __init__(self, s=None):\n",
        "    self._stack = s or []\n",
        "\n",
        "  def pop(self):\n",
        "    \"\"\"Removes the top element from the stack\"\"\"\n",
        "    return self._stack.pop()\n",
        "\n",
        "  def push(self, item):\n",
        "    \"\"\"Pushes a new item to the stack\"\"\"\n",
        "    self._stack.append(item)\n",
        "  \n",
        "  def stack(self):\n",
        "    \"\"\"Returns the stack\"\"\"\n",
        "    return self._stack\n",
        "  \n",
        "  def top(self):\n",
        "    \"\"\"Returns the top element from the stack\"\"\"\n",
        "    return self._stack[-1]\n",
        "  \n",
        "  def empty(self):\n",
        "    \"\"\"Returns whether the stack is empty or not\"\"\"\n",
        "    return len(self._stack) == 0\n"
      ],
      "metadata": {
        "id": "b4n2AzG-mEk9"
      },
      "execution_count": 22,
      "outputs": []
    },
    {
      "cell_type": "markdown",
      "source": [
        "# Sort a stack using another stack"
      ],
      "metadata": {
        "id": "J0v6ajgBYcuH"
      }
    },
    {
      "cell_type": "code",
      "source": [
        "def sort_stack(stack):\n",
        "  \"\"\"Sorts the list 'stack' using a temporary stack\"\"\"\n",
        "  temp_stack = Stack()\n",
        "  while not stack.empty():\n",
        "    top_input_stack = stack.pop()\n",
        "    while not temp_stack.empty() and temp_stack.top() > top_input_stack:\n",
        "      top_temp_stack = temp_stack.pop()\n",
        "      stack.push(top_temp_stack)\n",
        "    temp_stack.push(top_input_stack)\n",
        "  return temp_stack"
      ],
      "metadata": {
        "id": "NPtLaxaqYglb"
      },
      "execution_count": 28,
      "outputs": []
    },
    {
      "cell_type": "code",
      "source": [
        "assert sort_stack(Stack([1, 5, 4, 2])).stack() == [1, 2, 4, 5]"
      ],
      "metadata": {
        "id": "R66fWe0Mm4lr"
      },
      "execution_count": 29,
      "outputs": []
    },
    {
      "cell_type": "markdown",
      "source": [
        "# Find the next greater element for every element in an array"
      ],
      "metadata": {
        "id": "S5YeOs5J2g38"
      }
    },
    {
      "cell_type": "code",
      "source": [
        "def "
      ],
      "metadata": {
        "id": "p5G74HvV2jm4"
      },
      "execution_count": null,
      "outputs": []
    }
  ]
}
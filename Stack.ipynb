{
  "nbformat": 4,
  "nbformat_minor": 0,
  "metadata": {
    "colab": {
      "provenance": [],
      "collapsed_sections": [],
      "authorship_tag": "ABX9TyPurU8zIcIu7700ArnS7ab1",
      "include_colab_link": true
    },
    "kernelspec": {
      "name": "python3",
      "display_name": "Python 3"
    },
    "language_info": {
      "name": "python"
    }
  },
  "cells": [
    {
      "cell_type": "markdown",
      "metadata": {
        "id": "view-in-github",
        "colab_type": "text"
      },
      "source": [
        "<a href=\"https://colab.research.google.com/github/mustafaKus/enjoy-algos/blob/main/Stack.ipynb\" target=\"_parent\"><img src=\"https://colab.research.google.com/assets/colab-badge.svg\" alt=\"Open In Colab\"/></a>"
      ]
    },
    {
      "cell_type": "code",
      "source": [
        "class Stack:\n",
        "  \"\"\"Implements a stack\"\"\"\n",
        "\n",
        "  def __init__(self, s=None):\n",
        "    self._stack = s or []\n",
        "\n",
        "  def pop(self):\n",
        "    \"\"\"Removes the top element from the stack\"\"\"\n",
        "    return self._stack.pop()\n",
        "\n",
        "  def push(self, item):\n",
        "    \"\"\"Pushes a new item to the stack\"\"\"\n",
        "    self._stack.append(item)\n",
        "  \n",
        "  def stack(self):\n",
        "    \"\"\"Returns the stack\"\"\"\n",
        "    return self._stack\n",
        "  \n",
        "  def top(self):\n",
        "    \"\"\"Returns the top element from the stack\"\"\"\n",
        "    return self._stack[-1]\n",
        "  \n",
        "  def empty(self):\n",
        "    \"\"\"Returns whether the stack is empty or not\"\"\"\n",
        "    return len(self._stack) == 0\n"
      ],
      "metadata": {
        "id": "b4n2AzG-mEk9"
      },
      "execution_count": 6,
      "outputs": []
    },
    {
      "cell_type": "markdown",
      "source": [
        "# Sort a stack using another stack"
      ],
      "metadata": {
        "id": "J0v6ajgBYcuH"
      }
    },
    {
      "cell_type": "code",
      "source": [
        "def sort_stack(stack):\n",
        "  \"\"\"Sorts the list 'stack' using a temporary stack\"\"\"\n",
        "  temp_stack = Stack()\n",
        "  while not stack.empty():\n",
        "    top_input_stack = stack.pop()\n",
        "    while not temp_stack.empty() and temp_stack.top() > top_input_stack:\n",
        "      top_temp_stack = temp_stack.pop()\n",
        "      stack.push(top_temp_stack)\n",
        "    temp_stack.push(top_input_stack)\n",
        "  return temp_stack"
      ],
      "metadata": {
        "id": "NPtLaxaqYglb"
      },
      "execution_count": 2,
      "outputs": []
    },
    {
      "cell_type": "code",
      "source": [
        "assert sort_stack(Stack([1, 5, 4, 2])).stack() == [1, 2, 4, 5]"
      ],
      "metadata": {
        "id": "R66fWe0Mm4lr"
      },
      "execution_count": 3,
      "outputs": []
    },
    {
      "cell_type": "markdown",
      "source": [
        "# Find the next greater element for every element in an array"
      ],
      "metadata": {
        "id": "S5YeOs5J2g38"
      }
    },
    {
      "cell_type": "code",
      "source": [
        "def next_greater(input_list):\n",
        "  \"\"\"Calculates the next greater elements of the input list\"\"\"\n",
        "  stack = Stack()\n",
        "  for index, item in enumerate(input_list):\n",
        "    while not stack.empty() and input_list[stack.top()] <= input_list[index]:\n",
        "      input_list[stack.pop()] = input_list[index]\n",
        "    stack.push(index)\n",
        "  while not stack.empty():\n",
        "    input_list[stack.pop()] = -1\n",
        "  return input_list"
      ],
      "metadata": {
        "id": "p5G74HvV2jm4"
      },
      "execution_count": 4,
      "outputs": []
    },
    {
      "cell_type": "code",
      "source": [
        "assert next_greater([6, 4, 3, 8, 7, 12, 15, 16, 2, 1, 5, 11, 13, 9]) == [\n",
        "    8, 8, 8, 12, 12, 15, 16, -1, 5, 5, 11, 13, -1, -1]"
      ],
      "metadata": {
        "id": "nwyJfXZbFQ56"
      },
      "execution_count": 5,
      "outputs": []
    },
    {
      "cell_type": "markdown",
      "source": [
        "# The valid parentheses problem"
      ],
      "metadata": {
        "id": "KXmbir4lH_P8"
      }
    },
    {
      "cell_type": "code",
      "source": [
        "def valid_paranthesis(input_string):\n",
        "  \"\"\"Returns whether the input_string contains valid parantheses\"\"\"\n",
        "  stack = Stack()\n",
        "  for paranthesis in input_string:\n",
        "    if paranthesis in [\"(\", \"[\", \"{\"]:\n",
        "      stack.push(paranthesis)\n",
        "      continue\n",
        "    if stack.empty():\n",
        "      return False\n",
        "    top = stack.pop()\n",
        "    if not (\n",
        "        (paranthesis == \")\" and top == \"(\") or \\\n",
        "        (paranthesis == \"]\" and top == \"[\") or \\\n",
        "        (paranthesis == \"}\" and top == \"{\")):\n",
        "      return False\n",
        "  if stack.empty():\n",
        "      return True\n",
        "  return False  \n",
        "    "
      ],
      "metadata": {
        "id": "qezgUBr9IDpY"
      },
      "execution_count": 11,
      "outputs": []
    },
    {
      "cell_type": "code",
      "source": [
        "assert valid_paranthesis(\"((()))\")\n",
        "assert not valid_paranthesis(\"()((\")\n",
        "assert not valid_paranthesis(\"[][)\")"
      ],
      "metadata": {
        "id": "3zooQowvCfPp"
      },
      "execution_count": 15,
      "outputs": []
    }
  ]
}
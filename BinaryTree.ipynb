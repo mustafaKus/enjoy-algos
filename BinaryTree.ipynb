{
  "nbformat": 4,
  "nbformat_minor": 0,
  "metadata": {
    "colab": {
      "provenance": [],
      "collapsed_sections": [],
      "authorship_tag": "ABX9TyMALlMxTxnxu/rMLd+sBHGf",
      "include_colab_link": true
    },
    "kernelspec": {
      "name": "python3",
      "display_name": "Python 3"
    },
    "language_info": {
      "name": "python"
    }
  },
  "cells": [
    {
      "cell_type": "markdown",
      "metadata": {
        "id": "view-in-github",
        "colab_type": "text"
      },
      "source": [
        "<a href=\"https://colab.research.google.com/github/mustafaKus/enjoy-algos/blob/main/BinaryTree.ipynb\" target=\"_parent\"><img src=\"https://colab.research.google.com/assets/colab-badge.svg\" alt=\"Open In Colab\"/></a>"
      ]
    },
    {
      "cell_type": "markdown",
      "source": [
        "# Recursive Binary Tree Traversals (Preorder, Inorder and Postorder Traversal)"
      ],
      "metadata": {
        "id": "hSRgI991P2LD"
      }
    },
    {
      "cell_type": "code",
      "source": [
        "class TreeNode:\n",
        "\n",
        "  def __init__(self, data=None, left=None, right=None):\n",
        "    self._data = data\n",
        "    self._left = left\n",
        "    self._right = right\n",
        "\n",
        "  def data(self):\n",
        "    return self._data\n",
        "\n",
        "  def left(self):\n",
        "    return self._left\n",
        "\n",
        "  def right(self):\n",
        "    return self._right  "
      ],
      "metadata": {
        "id": "AI30pS9hQA9D"
      },
      "execution_count": 2,
      "outputs": []
    },
    {
      "cell_type": "code",
      "source": [
        "def process(data):\n",
        "  return data\n",
        "\n",
        "def preorder(root:TreeNode):\n",
        "  if root is None:\n",
        "    return\n",
        "  process(root.data())\n",
        "  preorder(root.left())\n",
        "  preorder(root.right())\n",
        "\n",
        "def inorder(root:TreeNode):\n",
        "  if root is None:\n",
        "    return\n",
        "  inorder(root.left())\n",
        "  process(root.data())\n",
        "  inorder(root.right()) \n",
        "\n",
        "def postorder(root:TreeNode):\n",
        "  if root is None:\n",
        "    return\n",
        "  postorder(root.left())\n",
        "  postorder(root.right())\n",
        "  process(root.data())"
      ],
      "metadata": {
        "id": "ixZQMDkURCTX"
      },
      "execution_count": 9,
      "outputs": []
    },
    {
      "cell_type": "markdown",
      "source": [
        "# Level Order Traversal (BFS Traversal) of a Binary Tree "
      ],
      "metadata": {
        "id": "rgVh9aejFRSu"
      }
    },
    {
      "cell_type": "code",
      "source": [
        "def height(root:TreeNode):\n",
        "  if root is None:\n",
        "    return 0\n",
        "  left_height = height(root.left())\n",
        "  right_height = height(root.right())\n",
        "  return left_height if left_height>=right_height else right_height\n",
        "\n",
        "def process_current_level(root:TreeNode, level):\n",
        "  if root is None:\n",
        "    return\n",
        "  if level == 0:\n",
        "    process(root.data())\n",
        "  process_current_level(root.left(), level-1)\n",
        "  process_current_level(root.right(), level -1)\n",
        "\n",
        "def recursive_level_order(root:TreeNode):\n",
        "  h = height(root)\n",
        "  for level in range(h):\n",
        "    process_current_level(root, level)"
      ],
      "metadata": {
        "id": "SpV82WpxFWt1"
      },
      "execution_count": 4,
      "outputs": []
    },
    {
      "cell_type": "code",
      "source": [
        "from queue import Queue\n",
        "\n",
        "def iterative_level_order(root:TreeNode):\n",
        "  tree_queue = Queue()\n",
        "  tree_queue.put(root)\n",
        "  while not tree_queue.empty():\n",
        "    current_node = tree_queue.get()\n",
        "    process(current_node)\n",
        "    if not current_node.left():\n",
        "      tree_queue.put(current_node.left())\n",
        "    if not current_node.right():\n",
        "      tree_queue.put(current_node.right())"
      ],
      "metadata": {
        "id": "-E-C9pPHNvZ1"
      },
      "execution_count": 10,
      "outputs": []
    },
    {
      "cell_type": "markdown",
      "source": [
        "# Find Minimum Depth of Binary Tree"
      ],
      "metadata": {
        "id": "RRJ0BY02DqrS"
      }
    },
    {
      "cell_type": "code",
      "source": [
        "def tree_min_depth(node:TreeNode):\n",
        "  if node is None:\n",
        "    return 0\n",
        "  if node.left() is None:\n",
        "    return 1 + tree_min_depth(node.right())\n",
        "  if node.right() is None:\n",
        "    return 1 + tree_min_depth(node.left())\n",
        "  return 1 + min(tree_min_depth(node.left()), tree_min_depth(node.right()))"
      ],
      "metadata": {
        "id": "aWJQ_G11DtUJ"
      },
      "execution_count": 6,
      "outputs": []
    },
    {
      "cell_type": "markdown",
      "source": [
        "# Merge Two Binary Trees"
      ],
      "metadata": {
        "id": "xMO8qXkMHBWh"
      }
    },
    {
      "cell_type": "code",
      "source": [
        "def preorder_merge(node:TreeNode, other_node:TreeNode):\n",
        "  if node is None:\n",
        "    return other_node\n",
        "  if other_node is None:\n",
        "    return node\n",
        "  node._data = node._data + other_node._data\n",
        "  node._left = preorder_merge(node.left(), other_node.left())\n",
        "  node._right = preorder_merge(node.right(), other_node.right())\n",
        "  return node "
      ],
      "metadata": {
        "id": "eL3cISRdHDfl"
      },
      "execution_count": 7,
      "outputs": []
    },
    {
      "cell_type": "markdown",
      "source": [
        "# Left View of a Binary Tree"
      ],
      "metadata": {
        "id": "JinQXK5JMrgz"
      }
    },
    {
      "cell_type": "code",
      "source": [
        "def left_view(root:TreeNode, views=[]):\n",
        "  def store_left_view(node, level):\n",
        "    if node is None:\n",
        "      return\n",
        "    if len(views) < level:\n",
        "      views.append(node.data())\n",
        "    store_left_view(node.left(), level+1)\n",
        "    store_left_view(node.right(), level+1)\n",
        "  if root is None:\n",
        "    return views\n",
        "  store_left_view(root, 1)\n",
        "  return views"
      ],
      "metadata": {
        "id": "XybZdk3PMtwM"
      },
      "execution_count": 8,
      "outputs": []
    }
  ]
}